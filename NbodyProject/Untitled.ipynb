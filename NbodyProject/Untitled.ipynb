{
 "cells": [
  {
   "cell_type": "code",
   "execution_count": 197,
   "metadata": {
    "collapsed": true
   },
   "outputs": [],
   "source": [
    "import numpy as np\n",
    "import matplotlib.pyplot as plt\n",
    "import time\n",
    "plt.ion()"
   ]
  },
  {
   "cell_type": "code",
   "execution_count": 252,
   "metadata": {
    "collapsed": true
   },
   "outputs": [],
   "source": [
    "def  get_particles_per_bin(x_particles, y_particles, nbins, extent):\n",
    "    # Define the bin edges.\n",
    "    xmin, xmax, ymin, ymax = extent\n",
    "    xedges = np.linspace(xmin, xmax, nbins+1)\n",
    "    yedges = np.linspace(ymin, ymax, nbins+1)\n",
    "    \n",
    "    # Get the indices of the bin array corresponding to the location of the particles.\n",
    "    x_idx = np.digitize(x_particle, x_bin)-1 # !!! PROBLEM HERE: index can be -1 if x_particle is < the 1st bin edge\n",
    "    y_idx = np.digitize(y_particle, y_bin)-1 # !!! ANOTHER PROBLEM: all particles at x_particle > last bin edge are lumped together into the last bin \n",
    "\n",
    "    # Initialize an array for the number of particles in each bin.\n",
    "    particles_per_bin = np.zeros([nbins, nbins])\n",
    "    # Add up the number of particles in each bin.\n",
    "    for i,j in zip(x_idx, y_idx):\n",
    "        particles_per_bin[j,i] += 1\n",
    "    \n",
    "    return particles_per_bin, xedges, yedges, np.column_stack((x_idx, y_idx))"
   ]
  },
  {
   "cell_type": "code",
   "execution_count": 326,
   "metadata": {
    "collapsed": false
   },
   "outputs": [
    {
     "name": "stdout",
     "output_type": "stream",
     "text": [
      "0.006983757019042969\n"
     ]
    },
    {
     "data": {
      "image/png": "[encoded data removed]",
      "text/plain": [
       "<Figure size 432x288 with 2 Axes>"
      ]
     },
     "metadata": {},
     "output_type": "display_data"
    }
   ],
   "source": [
    "# Number of particles:\n",
    "n = 1000\n",
    "# Distribute the partciles randomly in space.\n",
    "x_particle = np.random.randn(n)\n",
    "y_particle = np.random.randn(n)\n",
    "\n",
    "# Resolution of grid (number of pixels):\n",
    "npix = 100\n",
    "\n",
    "t1 = time.time()\n",
    "x_bin = np.linspace(-5,5,npix+1)\n",
    "y_bin = np.linspace(-5,5,npix+1)\n",
    "\n",
    "x_idx = np.digitize(x_particle, x_bin)-1 # !!! PROBLEM HERE: index can be -1 if x_particle is < the 1st bin edge\n",
    "y_idx = np.digitize(y_particle, y_bin)-1 # !!! ANOTHER PROBLEM: all particles at x_particle > last bin edge are lumped together into the last bin \n",
    "\n",
    "particles_per_bin = np.zeros([npix, npix])\n",
    "for i,j in zip(x_idx,y_idx):\n",
    "    particles_per_bin[j,i] += 1\n",
    "t2 = time.time()\n",
    "print(t2-t1)\n",
    "\n",
    "f, ax = plt.subplots()\n",
    "# plt.plot(x_particle, y_particle, 'r.')\n",
    "im = ax.imshow(particles_per_bin, origin='lower', extent=[x_bin[0],x_bin[-1],y_bin[0],y_bin[-1]])\n",
    "ax.set_aspect('equal')\n",
    "plt.colorbar(im)\n",
    "plt.show()"
   ]
  },
  {
   "cell_type": "code",
   "execution_count": 327,
   "metadata": {
    "collapsed": false
   },
   "outputs": [],
   "source": [
    "density, xedges, yedges, bin_idx = get_particles_per_bin(x_particle, y_particle, npix, [-5,5,-5,5])\n",
    "density_FT = np.fft.fft(density*np.blackman(len(density)))\n",
    "\n",
    "# plt.imshow(np.abs(density_FT), origin='lower', extent=[-2*np.pi/5,2*np.pi/5,-2*np.pi/5,2*np.pi/5])\n",
    "# plt.show()"
   ]
  },
  {
   "cell_type": "code",
   "execution_count": 328,
   "metadata": {
    "collapsed": false
   },
   "outputs": [
    {
     "data": {
      "image/png": "[encoded data removed]",
      "text/plain": [
       "<Figure size 432x288 with 2 Axes>"
      ]
     },
     "metadata": {},
     "output_type": "display_data"
    }
   ],
   "source": [
    "xmax = 5; xmin = -5; ymax = 5; ymin =-5\n",
    "kx = np.fft.fftfreq(npix+1, (xmax-xmin)/(npix+1))\n",
    "ky = np.fft.fftfreq(npix+1, (ymax-ymin)/(npix+1))\n",
    "KX, KY = np.meshgrid(kx, ky)\n",
    "\n",
    "fig = plt.figure()\n",
    "plt.pcolormesh(KX, KY, np.abs(density_FT))\n",
    "plt.colorbar()\n",
    "ax = fig.gca()\n",
    "ax.set_aspect('equal')\n",
    "plt.show()"
   ]
  },
  {
   "cell_type": "code",
   "execution_count": null,
   "metadata": {
    "collapsed": true
   },
   "outputs": [],
   "source": []
  }
 ],
 "metadata": {
  "anaconda-cloud": {},
  "kernelspec": {
   "display_name": "Python [conda root]",
   "language": "python",
   "name": "conda-root-py"
  },
  "language_info": {
   "codemirror_mode": {
    "name": "ipython",
    "version": 3
   },
   "file_extension": ".py",
   "mimetype": "text/x-python",
   "name": "python",
   "nbconvert_exporter": "python",
   "pygments_lexer": "ipython3",
   "version": "3.5.4"
  }
 },
 "nbformat": 4,
 "nbformat_minor": 1
}
